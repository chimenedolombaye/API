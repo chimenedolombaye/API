{
 "cells": [
  {
   "cell_type": "code",
   "execution_count": 20,
   "id": "94781ba6",
   "metadata": {},
   "outputs": [],
   "source": [
    "import requests\n",
    "import pandas as pd\n",
    "\n",
    "api_key = 'WKcNJUpn2qAaHbb00pJWYgopQCjja0NAiei8o7F4'\n"
   ]
  },
  {
   "cell_type": "code",
   "execution_count": 21,
   "id": "5e3e8bed",
   "metadata": {},
   "outputs": [
    {
     "name": "stdout",
     "output_type": "stream",
     "text": [
      "Image URL: https://apod.nasa.gov/apod/image/2311/2023-11-17-1617_1632-Jupiter_Stereo1200.png\n"
     ]
    }
   ],
   "source": [
    "point_url = 'https://api.nasa.gov/planetary/apod?api_key=DEMO_KEY'\n",
    "params = {'api_key': api_key}\n",
    "\n",
    "response = requests.get(endpoint_url, params=params)\n",
    "data = response.json()\n",
    "\n",
    "# Obtenez et affichez l'image\n",
    "image_url = data['url']\n",
    "print(f\"Image URL: {image_url}\")\n"
   ]
  },
  {
   "cell_type": "code",
   "execution_count": 22,
   "id": "44d5c3d0",
   "metadata": {},
   "outputs": [
    {
     "data": {
      "text/html": [
       "<div>\n",
       "<style scoped>\n",
       "    .dataframe tbody tr th:only-of-type {\n",
       "        vertical-align: middle;\n",
       "    }\n",
       "\n",
       "    .dataframe tbody tr th {\n",
       "        vertical-align: top;\n",
       "    }\n",
       "\n",
       "    .dataframe thead th {\n",
       "        text-align: right;\n",
       "    }\n",
       "</style>\n",
       "<table border=\"1\" class=\"dataframe\">\n",
       "  <thead>\n",
       "    <tr style=\"text-align: right;\">\n",
       "      <th></th>\n",
       "      <th>ID d'astéroïde</th>\n",
       "      <th>Nom de l'astéroïde</th>\n",
       "      <th>Diamètre minimal estimé en kilomètre</th>\n",
       "      <th>Magnitude absolue</th>\n",
       "      <th>Vitesse relative (km/s)</th>\n",
       "    </tr>\n",
       "  </thead>\n",
       "  <tbody>\n",
       "    <tr>\n",
       "      <th>0</th>\n",
       "      <td>12345</td>\n",
       "      <td>Asteroid-1</td>\n",
       "      <td>0.5</td>\n",
       "      <td>15.2</td>\n",
       "      <td>25.6</td>\n",
       "    </tr>\n",
       "  </tbody>\n",
       "</table>\n",
       "</div>"
      ],
      "text/plain": [
       "  ID d'astéroïde Nom de l'astéroïde Diamètre minimal estimé en kilomètre  \\\n",
       "0          12345         Asteroid-1                                  0.5   \n",
       "\n",
       "  Magnitude absolue Vitesse relative (km/s)  \n",
       "0              15.2                    25.6  "
      ]
     },
     "execution_count": 22,
     "metadata": {},
     "output_type": "execute_result"
    }
   ],
   "source": [
    "df.head()\n"
   ]
  },
  {
   "cell_type": "code",
   "execution_count": 23,
   "id": "45843e4f",
   "metadata": {},
   "outputs": [
    {
     "data": {
      "text/plain": [
       "ID d'astéroïde                          object\n",
       "Nom de l'astéroïde                      object\n",
       "Diamètre minimal estimé en kilomètre    object\n",
       "Magnitude absolue                       object\n",
       "Vitesse relative (km/s)                 object\n",
       "dtype: object"
      ]
     },
     "execution_count": 23,
     "metadata": {},
     "output_type": "execute_result"
    }
   ],
   "source": [
    "df.dtypes\n"
   ]
  },
  {
   "cell_type": "code",
   "execution_count": 24,
   "id": "68ada756",
   "metadata": {},
   "outputs": [
    {
     "data": {
      "text/html": [
       "<div>\n",
       "<style scoped>\n",
       "    .dataframe tbody tr th:only-of-type {\n",
       "        vertical-align: middle;\n",
       "    }\n",
       "\n",
       "    .dataframe tbody tr th {\n",
       "        vertical-align: top;\n",
       "    }\n",
       "\n",
       "    .dataframe thead th {\n",
       "        text-align: right;\n",
       "    }\n",
       "</style>\n",
       "<table border=\"1\" class=\"dataframe\">\n",
       "  <thead>\n",
       "    <tr style=\"text-align: right;\">\n",
       "      <th></th>\n",
       "      <th>ID d'astéroïde</th>\n",
       "      <th>Nom de l'astéroïde</th>\n",
       "      <th>Diamètre minimal estimé en kilomètre</th>\n",
       "      <th>Magnitude absolue</th>\n",
       "      <th>Vitesse relative (km/s)</th>\n",
       "    </tr>\n",
       "  </thead>\n",
       "  <tbody>\n",
       "    <tr>\n",
       "      <th>count</th>\n",
       "      <td>1</td>\n",
       "      <td>1</td>\n",
       "      <td>1</td>\n",
       "      <td>1</td>\n",
       "      <td>1</td>\n",
       "    </tr>\n",
       "    <tr>\n",
       "      <th>unique</th>\n",
       "      <td>1</td>\n",
       "      <td>1</td>\n",
       "      <td>1</td>\n",
       "      <td>1</td>\n",
       "      <td>1</td>\n",
       "    </tr>\n",
       "    <tr>\n",
       "      <th>top</th>\n",
       "      <td>12345</td>\n",
       "      <td>Asteroid-1</td>\n",
       "      <td>0.5</td>\n",
       "      <td>15.2</td>\n",
       "      <td>25.6</td>\n",
       "    </tr>\n",
       "    <tr>\n",
       "      <th>freq</th>\n",
       "      <td>1</td>\n",
       "      <td>1</td>\n",
       "      <td>1</td>\n",
       "      <td>1</td>\n",
       "      <td>1</td>\n",
       "    </tr>\n",
       "  </tbody>\n",
       "</table>\n",
       "</div>"
      ],
      "text/plain": [
       "       ID d'astéroïde Nom de l'astéroïde Diamètre minimal estimé en kilomètre  \\\n",
       "count               1                  1                                    1   \n",
       "unique              1                  1                                    1   \n",
       "top             12345         Asteroid-1                                  0.5   \n",
       "freq                1                  1                                    1   \n",
       "\n",
       "       Magnitude absolue Vitesse relative (km/s)  \n",
       "count                  1                       1  \n",
       "unique                 1                       1  \n",
       "top                 15.2                    25.6  \n",
       "freq                   1                       1  "
      ]
     },
     "execution_count": 24,
     "metadata": {},
     "output_type": "execute_result"
    }
   ],
   "source": [
    "df.describe()"
   ]
  },
  {
   "cell_type": "code",
   "execution_count": null,
   "id": "11de21b8",
   "metadata": {},
   "outputs": [],
   "source": []
  },
  {
   "cell_type": "code",
   "execution_count": 25,
   "id": "67701404",
   "metadata": {},
   "outputs": [
    {
     "data": {
      "text/html": [
       "<div>\n",
       "<style scoped>\n",
       "    .dataframe tbody tr th:only-of-type {\n",
       "        vertical-align: middle;\n",
       "    }\n",
       "\n",
       "    .dataframe tbody tr th {\n",
       "        vertical-align: top;\n",
       "    }\n",
       "\n",
       "    .dataframe thead th {\n",
       "        text-align: right;\n",
       "    }\n",
       "</style>\n",
       "<table border=\"1\" class=\"dataframe\">\n",
       "  <thead>\n",
       "    <tr style=\"text-align: right;\">\n",
       "      <th></th>\n",
       "      <th>ID d'astéroïde</th>\n",
       "      <th>Nom de l'astéroïde</th>\n",
       "      <th>Diamètre minimal estimé en kilomètre</th>\n",
       "      <th>Magnitude absolue</th>\n",
       "      <th>Vitesse relative (km/s)</th>\n",
       "    </tr>\n",
       "  </thead>\n",
       "  <tbody>\n",
       "    <tr>\n",
       "      <th>0</th>\n",
       "      <td>12345</td>\n",
       "      <td>Asteroid-1</td>\n",
       "      <td>0.5</td>\n",
       "      <td>15.2</td>\n",
       "      <td>25.6</td>\n",
       "    </tr>\n",
       "  </tbody>\n",
       "</table>\n",
       "</div>"
      ],
      "text/plain": [
       "  ID d'astéroïde Nom de l'astéroïde Diamètre minimal estimé en kilomètre  \\\n",
       "0          12345         Asteroid-1                                  0.5   \n",
       "\n",
       "  Magnitude absolue Vitesse relative (km/s)  \n",
       "0              15.2                    25.6  "
      ]
     },
     "execution_count": 25,
     "metadata": {},
     "output_type": "execute_result"
    }
   ],
   "source": [
    "data = {\n",
    "    'ID d\\'astéroïde': ['12345'],\n",
    "    'Nom de l\\'astéroïde': ['Asteroid-1'],\n",
    "    'Diamètre minimal estimé en kilomètre': ['0.5'],\n",
    "    'Magnitude absolue': ['15.2'],\n",
    "    'Vitesse relative (km/s)': ['25.6']\n",
    "}\n",
    "\n",
    "df = pd.DataFrame(data)\n",
    "df"
   ]
  },
  {
   "cell_type": "code",
   "execution_count": 26,
   "id": "143d4eb4",
   "metadata": {},
   "outputs": [],
   "source": [
    "df.to_csv('donnees_asteroides.csv', index=False)\n"
   ]
  },
  {
   "cell_type": "code",
   "execution_count": null,
   "id": "85c1a677",
   "metadata": {},
   "outputs": [],
   "source": []
  }
 ],
 "metadata": {
  "kernelspec": {
   "display_name": "Python 3 (ipykernel)",
   "language": "python",
   "name": "python3"
  },
  "language_info": {
   "codemirror_mode": {
    "name": "ipython",
    "version": 3
   },
   "file_extension": ".py",
   "mimetype": "text/x-python",
   "name": "python",
   "nbconvert_exporter": "python",
   "pygments_lexer": "ipython3",
   "version": "3.11.5"
  }
 },
 "nbformat": 4,
 "nbformat_minor": 5
}
